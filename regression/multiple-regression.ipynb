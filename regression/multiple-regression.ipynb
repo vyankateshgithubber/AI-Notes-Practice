{
 "cells": [
  {
   "cell_type": "markdown",
   "id": "21cb82e8",
   "metadata": {},
   "source": [
    "multiple linear regresion \n",
    "there are multiple dependent varibles \\\\n\n",
    "y =  a x1 + b x2 +  c"
   ]
  },
  {
   "cell_type": "code",
   "execution_count": 3,
   "id": "b31a28d4",
   "metadata": {},
   "outputs": [
    {
     "data": {
      "application/vnd.microsoft.datawrangler.viewer.v0+json": {
       "columns": [
        {
         "name": "index",
         "rawType": "int64",
         "type": "integer"
        },
        {
         "name": "Hours",
         "rawType": "int64",
         "type": "integer"
        },
        {
         "name": "sHours",
         "rawType": "int64",
         "type": "integer"
        },
        {
         "name": "Marks",
         "rawType": "int64",
         "type": "integer"
        }
       ],
       "ref": "d9a7c677-3971-436b-a4a4-64084b915865",
       "rows": [
        [
         "0",
         "0",
         "6",
         "34"
        ],
        [
         "1",
         "1",
         "7",
         "36"
        ],
        [
         "2",
         "1",
         "6",
         "33"
        ],
        [
         "3",
         "1",
         "8",
         "39"
        ],
        [
         "4",
         "1",
         "8",
         "42"
        ],
        [
         "5",
         "2",
         "8",
         "45"
        ],
        [
         "6",
         "2",
         "6",
         "38"
        ],
        [
         "7",
         "3",
         "6",
         "45"
        ],
        [
         "8",
         "3",
         "7",
         "53"
        ],
        [
         "9",
         "3",
         "7",
         "46"
        ],
        [
         "10",
         "3",
         "8",
         "56"
        ],
        [
         "11",
         "4",
         "8",
         "59"
        ],
        [
         "12",
         "4",
         "7",
         "55"
        ],
        [
         "13",
         "4",
         "7",
         "56"
        ],
        [
         "14",
         "5",
         "8",
         "72"
        ],
        [
         "15",
         "5",
         "6",
         "59"
        ],
        [
         "16",
         "6",
         "6",
         "62"
        ],
        [
         "17",
         "6",
         "7",
         "71"
        ],
        [
         "18",
         "7",
         "8",
         "78"
        ],
        [
         "19",
         "7",
         "8",
         "88"
        ],
        [
         "20",
         "7",
         "6",
         "61"
        ],
        [
         "21",
         "7",
         "6",
         "74"
        ],
        [
         "22",
         "8",
         "7",
         "71"
        ],
        [
         "23",
         "8",
         "8",
         "89"
        ],
        [
         "24",
         "9",
         "8",
         "82"
        ],
        [
         "25",
         "9",
         "5",
         "67"
        ],
        [
         "26",
         "9",
         "8",
         "89"
        ],
        [
         "27",
         "10",
         "8",
         "81"
        ],
        [
         "28",
         "10",
         "8",
         "82"
        ],
        [
         "29",
         "11",
         "7",
         "79"
        ]
       ],
       "shape": {
        "columns": 3,
        "rows": 30
       }
      },
      "text/html": [
       "<div>\n",
       "<style scoped>\n",
       "    .dataframe tbody tr th:only-of-type {\n",
       "        vertical-align: middle;\n",
       "    }\n",
       "\n",
       "    .dataframe tbody tr th {\n",
       "        vertical-align: top;\n",
       "    }\n",
       "\n",
       "    .dataframe thead th {\n",
       "        text-align: right;\n",
       "    }\n",
       "</style>\n",
       "<table border=\"1\" class=\"dataframe\">\n",
       "  <thead>\n",
       "    <tr style=\"text-align: right;\">\n",
       "      <th></th>\n",
       "      <th>Hours</th>\n",
       "      <th>sHours</th>\n",
       "      <th>Marks</th>\n",
       "    </tr>\n",
       "  </thead>\n",
       "  <tbody>\n",
       "    <tr>\n",
       "      <th>0</th>\n",
       "      <td>0</td>\n",
       "      <td>6</td>\n",
       "      <td>34</td>\n",
       "    </tr>\n",
       "    <tr>\n",
       "      <th>1</th>\n",
       "      <td>1</td>\n",
       "      <td>7</td>\n",
       "      <td>36</td>\n",
       "    </tr>\n",
       "    <tr>\n",
       "      <th>2</th>\n",
       "      <td>1</td>\n",
       "      <td>6</td>\n",
       "      <td>33</td>\n",
       "    </tr>\n",
       "    <tr>\n",
       "      <th>3</th>\n",
       "      <td>1</td>\n",
       "      <td>8</td>\n",
       "      <td>39</td>\n",
       "    </tr>\n",
       "    <tr>\n",
       "      <th>4</th>\n",
       "      <td>1</td>\n",
       "      <td>8</td>\n",
       "      <td>42</td>\n",
       "    </tr>\n",
       "    <tr>\n",
       "      <th>5</th>\n",
       "      <td>2</td>\n",
       "      <td>8</td>\n",
       "      <td>45</td>\n",
       "    </tr>\n",
       "    <tr>\n",
       "      <th>6</th>\n",
       "      <td>2</td>\n",
       "      <td>6</td>\n",
       "      <td>38</td>\n",
       "    </tr>\n",
       "    <tr>\n",
       "      <th>7</th>\n",
       "      <td>3</td>\n",
       "      <td>6</td>\n",
       "      <td>45</td>\n",
       "    </tr>\n",
       "    <tr>\n",
       "      <th>8</th>\n",
       "      <td>3</td>\n",
       "      <td>7</td>\n",
       "      <td>53</td>\n",
       "    </tr>\n",
       "    <tr>\n",
       "      <th>9</th>\n",
       "      <td>3</td>\n",
       "      <td>7</td>\n",
       "      <td>46</td>\n",
       "    </tr>\n",
       "    <tr>\n",
       "      <th>10</th>\n",
       "      <td>3</td>\n",
       "      <td>8</td>\n",
       "      <td>56</td>\n",
       "    </tr>\n",
       "    <tr>\n",
       "      <th>11</th>\n",
       "      <td>4</td>\n",
       "      <td>8</td>\n",
       "      <td>59</td>\n",
       "    </tr>\n",
       "    <tr>\n",
       "      <th>12</th>\n",
       "      <td>4</td>\n",
       "      <td>7</td>\n",
       "      <td>55</td>\n",
       "    </tr>\n",
       "    <tr>\n",
       "      <th>13</th>\n",
       "      <td>4</td>\n",
       "      <td>7</td>\n",
       "      <td>56</td>\n",
       "    </tr>\n",
       "    <tr>\n",
       "      <th>14</th>\n",
       "      <td>5</td>\n",
       "      <td>8</td>\n",
       "      <td>72</td>\n",
       "    </tr>\n",
       "    <tr>\n",
       "      <th>15</th>\n",
       "      <td>5</td>\n",
       "      <td>6</td>\n",
       "      <td>59</td>\n",
       "    </tr>\n",
       "    <tr>\n",
       "      <th>16</th>\n",
       "      <td>6</td>\n",
       "      <td>6</td>\n",
       "      <td>62</td>\n",
       "    </tr>\n",
       "    <tr>\n",
       "      <th>17</th>\n",
       "      <td>6</td>\n",
       "      <td>7</td>\n",
       "      <td>71</td>\n",
       "    </tr>\n",
       "    <tr>\n",
       "      <th>18</th>\n",
       "      <td>7</td>\n",
       "      <td>8</td>\n",
       "      <td>78</td>\n",
       "    </tr>\n",
       "    <tr>\n",
       "      <th>19</th>\n",
       "      <td>7</td>\n",
       "      <td>8</td>\n",
       "      <td>88</td>\n",
       "    </tr>\n",
       "    <tr>\n",
       "      <th>20</th>\n",
       "      <td>7</td>\n",
       "      <td>6</td>\n",
       "      <td>61</td>\n",
       "    </tr>\n",
       "    <tr>\n",
       "      <th>21</th>\n",
       "      <td>7</td>\n",
       "      <td>6</td>\n",
       "      <td>74</td>\n",
       "    </tr>\n",
       "    <tr>\n",
       "      <th>22</th>\n",
       "      <td>8</td>\n",
       "      <td>7</td>\n",
       "      <td>71</td>\n",
       "    </tr>\n",
       "    <tr>\n",
       "      <th>23</th>\n",
       "      <td>8</td>\n",
       "      <td>8</td>\n",
       "      <td>89</td>\n",
       "    </tr>\n",
       "    <tr>\n",
       "      <th>24</th>\n",
       "      <td>9</td>\n",
       "      <td>8</td>\n",
       "      <td>82</td>\n",
       "    </tr>\n",
       "    <tr>\n",
       "      <th>25</th>\n",
       "      <td>9</td>\n",
       "      <td>5</td>\n",
       "      <td>67</td>\n",
       "    </tr>\n",
       "    <tr>\n",
       "      <th>26</th>\n",
       "      <td>9</td>\n",
       "      <td>8</td>\n",
       "      <td>89</td>\n",
       "    </tr>\n",
       "    <tr>\n",
       "      <th>27</th>\n",
       "      <td>10</td>\n",
       "      <td>8</td>\n",
       "      <td>81</td>\n",
       "    </tr>\n",
       "    <tr>\n",
       "      <th>28</th>\n",
       "      <td>10</td>\n",
       "      <td>8</td>\n",
       "      <td>82</td>\n",
       "    </tr>\n",
       "    <tr>\n",
       "      <th>29</th>\n",
       "      <td>11</td>\n",
       "      <td>7</td>\n",
       "      <td>79</td>\n",
       "    </tr>\n",
       "  </tbody>\n",
       "</table>\n",
       "</div>"
      ],
      "text/plain": [
       "    Hours  sHours  Marks\n",
       "0       0       6     34\n",
       "1       1       7     36\n",
       "2       1       6     33\n",
       "3       1       8     39\n",
       "4       1       8     42\n",
       "5       2       8     45\n",
       "6       2       6     38\n",
       "7       3       6     45\n",
       "8       3       7     53\n",
       "9       3       7     46\n",
       "10      3       8     56\n",
       "11      4       8     59\n",
       "12      4       7     55\n",
       "13      4       7     56\n",
       "14      5       8     72\n",
       "15      5       6     59\n",
       "16      6       6     62\n",
       "17      6       7     71\n",
       "18      7       8     78\n",
       "19      7       8     88\n",
       "20      7       6     61\n",
       "21      7       6     74\n",
       "22      8       7     71\n",
       "23      8       8     89\n",
       "24      9       8     82\n",
       "25      9       5     67\n",
       "26      9       8     89\n",
       "27     10       8     81\n",
       "28     10       8     82\n",
       "29     11       7     79"
      ]
     },
     "execution_count": 3,
     "metadata": {},
     "output_type": "execute_result"
    }
   ],
   "source": [
    "import pandas as pd\n",
    "\n",
    "df =  pd.read_csv('02Students.csv')\n",
    "\n",
    "X = df.iloc[:, :-1]  # hours column \n",
    "Y = df.iloc[:,-1]  # marks \n",
    "df"
   ]
  },
  {
   "cell_type": "code",
   "execution_count": 4,
   "id": "179f4818",
   "metadata": {},
   "outputs": [
    {
     "data": {
      "text/plain": [
       "8.479105430005918"
      ]
     },
     "execution_count": 4,
     "metadata": {},
     "output_type": "execute_result"
    }
   ],
   "source": [
    "from sklearn.model_selection import train_test_split\n",
    "from sklearn.linear_model import LinearRegression\n",
    "\n",
    "x_train, x_test, y_train, y_test = train_test_split(X, Y, test_size=0.3, random_state=1232)\n",
    "\n",
    "regressor =  LinearRegression()\n",
    "\n",
    "regressor.fit(x_train, y_train)\n",
    "\n",
    "y_predict =  regressor.predict(x_test)\n",
    "\n",
    "\n",
    "# R squared --> coefficient of determination \n",
    "# how much is variation in Y is described by varation in X\n",
    "slr_score=  regressor.score(x_test, y_test)\n",
    "\n",
    "# coefficient of line\n",
    "slr_coefficient = regressor.coef_\n",
    "slr_intercept = regressor.intercept_\n",
    "\n",
    "# Y = slr_intercept +  slr_coefficient * x\n",
    "from sklearn.metrics import mean_squared_error\n",
    "import math\n",
    "\n",
    "\n",
    "rmse =  math.sqrt(mean_squared_error(y_test,y_predict))\n",
    "rmse\n"
   ]
  },
  {
   "cell_type": "markdown",
   "id": "bebb1e24",
   "metadata": {},
   "source": [
    "It is necessary to consider following thing when you add more and more dependent varibles.\n",
    "\n",
    "R2 values higher means - varition in Y is explained by varition in X\n",
    "\n",
    "\n",
    "Degress of Freedom \n",
    "# Degrees of Freedom (DoF) & R² Relation\n",
    "\n",
    "Let:\n",
    "- n = number of observations (rows)\n",
    "- p = number of predictors (independent variables) (excluding intercept)\n",
    "- yᵢ actual, ŷᵢ predicted, ȳ mean of y\n",
    "\n",
    "Sums of Squares:\n",
    "- SST (Total) = Σ (yᵢ − ȳ)²        DoF: n − 1\n",
    "- SSE (Residual / Error) = Σ (yᵢ − ŷᵢ)²   DoF: n − p − 1\n",
    "- SSR (Regression) = Σ (ŷᵢ − ȳ)²    DoF: p\n",
    "Relation: SST = SSR + SSE and (n − 1) = p + (n − p − 1)\n",
    "\n",
    "R² (Coefficient of Determination):\n",
    "R² = 1 − (SSE / SST) = SSR / SST\n",
    "##### Meaning: fraction of variance in y explained by the predictors.\n",
    "##### Issue: R² never decreases when adding predictors (even useless ones).\n",
    "\n",
    "Adjusted R² (penalizes extra predictors):\n",
    "Adj R² = 1 − ( (SSE / (n − p − 1)) / (SST / (n − 1)) )\n",
    "= 1 − (1 − R²) * (n − 1) / (n − p − 1)\n",
    "Will increase only if new variable improves model more than expected by chance.\n",
    "\n",
    "Mean Squares & F-test:\n",
    "- MSR = SSR / p\n",
    "- MSE = SSE / (n − p − 1)\n",
    "- F = MSR / MSE  (tests if at least one β ≠ 0)\n",
    "\n",
    "Real-Life Example:\n",
    "Predict Exam Score using:\n",
    "- x1: Study Hours\n",
    "- x2: Attendance %\n",
    "- x3: Past Semester GPA\n",
    "\n",
    "eg. you have five shirts for 5 days. \n",
    "1 day you have 5 option \n",
    "2nd day you have 4 option \n",
    "...\n",
    "5th day you have no option \n",
    "This is degrees of freedom\n",
    "\n",
    "Suppose n = 40, p = 3\n",
    "DoF:\n",
    "- Total: 39\n",
    "- Regression: 3\n",
    "- Residual: 36\n",
    "If R² = 0.80:\n",
    "Adj R² = 1 − (1 − 0.80)*(39)/(36) ≈ 0.79 (slightly lower due to DoF penalty)\n",
    "\n",
    "Key Points:\n",
    "- DoF track how many independent pieces of information remain after estimating parameters.\n",
    "- More predictors reduce residual DoF → risk of overfitting.\n",
    "- Use Adjusted R² (and F-test) to judge if added predictors are meaningful.\n",
    "Adjusted R squared "
   ]
  },
  {
   "cell_type": "markdown",
   "id": "db2cb4d0",
   "metadata": {},
   "source": [
    "Multiple linear regression relies on several key assumptions to ensure its results are accurate and reliable. These assumptions cover the relationships between variables—requiring a **linear relationship**, **no high correlation among predictors (multicollinearity)**, **no correlation between predictors and the error term (endogeneity)**, and **independent errors (no autocorrelation)**—as well as the behavior of the model's errors, which should be **normally distributed** with a **constant variance (homoscedasticity)**.\n",
    "\n",
    "---\n",
    "## Assumptions of Multiple Linear Regression\n",
    "\n",
    "These assumptions are primarily about the model's residuals (the errors in prediction), not necessarily the raw variables themselves.\n",
    "\n",
    "### Relationship Among Variables\n",
    "\n",
    "#### 1. Linearity\n",
    "The core assumption is that a linear relationship exists between the independent variables and the dependent variable. If the relationship is curved (e.g., quadratic), a linear model will not be a good fit.\n",
    "\n",
    "* **How to Check**: Create scatter plots of each independent variable against the dependent variable. The points should appear to follow a straight line.\n",
    "* **Example**: Plotting \"Years of Experience\" vs. \"Salary\" should show a clear linear trend where salary increases steadily with experience.\n",
    "\n",
    "#### 2. No Multicollinearity\n",
    "**Multicollinearity** occurs when two or more independent variables in the model are highly correlated with each other. This doesn't decrease the model's predictive power, but it makes the regression coefficients unreliable and hard to interpret.\n",
    "\n",
    "* **Why it's a problem**: The model can't distinguish the individual effect of each correlated variable on the dependent variable. For instance, if `height` and `shoe_size` are both used to predict `weight`, the model might assign a nonsensical coefficient to each because they provide redundant information.\n",
    "* **How to Check**:\n",
    "    * **Correlation Matrix**: Calculate the correlation between all pairs of independent variables. A high correlation (e.g., > 0.8 or < -0.8) indicates a potential problem.\n",
    "    * **Variance Inflation Factor (VIF)**: This is a more robust method.\n",
    "        $$\\text{VIF} = \\frac{1}{1 - R^2_i}$$\n",
    "        Where $R^2_i$ is the R² value obtained by regressing the i-th predictor on all other predictors. A VIF greater than 5 or 10 is often considered a sign of high multicollinearity.\n",
    "\n",
    "#### 3. No Autocorrelation (Independence of Residuals)\n",
    "**Autocorrelation** (or serial correlation) means that the residuals are not independent of each other. In other words, the error of one observation is correlated with the error of a previous observation. This is most common in time-series data.\n",
    "\n",
    "* **Example**: When predicting a stock's price, if the model overestimates the price on Monday, it's more likely to overestimate it on Tuesday as well. The errors are correlated.\n",
    "* **How to Check**: Use the **Durbin-Watson (DW) test**. The DW statistic ranges from 0 to 4. A value around 2 indicates no autocorrelation. Values below 1.5 suggest positive autocorrelation, and values above 2.5 suggest negative autocorrelation.\n",
    "\n",
    "#### 4. No Endogeneity\n",
    "**Endogeneity** occurs when an independent variable is correlated with the error term. This is a serious issue because it means something outside the model is explaining both your predictor and your outcome, leading to biased and inconsistent coefficient estimates.\n",
    "\n",
    "* **Example**: Imagine you're modeling the effect of `education_level` on `income`. A person's innate `ambition` (an omitted variable) likely affects both their education level and their income. Since ambition is not in the model, its effect is captured in the error term. This creates a correlation between `education_level` and the error, violating the assumption. This specific case is known as **omitted variable bias**.\n",
    "\n",
    "### Behavior of Data (Error Terms)\n",
    "\n",
    "#### 5. Normality of Residuals\n",
    "This assumption states that the model's residuals should be normally distributed around a mean of 0. It does **not** mean that the independent or dependent variables themselves need to be normally distributed. This is important for the validity of confidence intervals and hypothesis tests.\n",
    "\n",
    "* **How to Check**:\n",
    "    * **Histogram of Residuals**: It should look like a bell curve.\n",
    "    * **Q-Q Plot (Quantile-Quantile Plot)**: The residuals should fall along the 45-degree line. \n",
    "\n",
    "#### 6. Homoscedasticity (Constant Variance of Residuals)\n",
    "**Homoscedasticity** means that the variance of the residuals is constant across all levels of the independent variables. The opposite is **heteroscedasticity**, where the variance of the errors differs at different values of the predictors.\n",
    "\n",
    "* **Why it's important**: If the errors are not constant, the model's predictions will be less accurate for some ranges of the data than for others.\n",
    "* **How to Check**: Create a **residual plot**, which is a scatter plot of the model's predicted values vs. its residuals.\n",
    "    * **Homoscedasticity**: The plot shows a random, cloud-like scattering of points with no clear pattern.\n",
    "    * **Heteroscedasticity**: The plot shows a discernible pattern, often a cone or fan shape, where the spread of the residuals increases or decreases with the predicted values. \n",
    "#### 7. Dummy varible trap\n",
    "categorical data -> converted into one hot endcoding, it last varible value can be defined by other n-1 varibles only.\n",
    "\n",
    "\n",
    "Regarding **sample size**, while there's no strict rule, a larger sample size generally leads to more reliable and stable coefficient estimates. A common rule of thumb is to have at least 10-20 observations per independent variable."
   ]
  },
  {
   "cell_type": "code",
   "execution_count": 8,
   "id": "7c644277",
   "metadata": {},
   "outputs": [
    {
     "data": {
      "text/plain": [
       "(array([-8, -7, -6, -5, -4, -3, -2, -1,  0,  1,  2,  3,  4,  5,  6,  7,  8]),\n",
       " array([0.3102569 , 0.37862065, 0.4524715 , 0.5446227 , 0.65713006,\n",
       "        0.7718786 , 0.879378  , 0.96169895, 1.        , 0.96169895,\n",
       "        0.879378  , 0.7718786 , 0.65713006, 0.5446227 , 0.4524715 ,\n",
       "        0.37862065, 0.3102569 ], dtype=float32),\n",
       " <matplotlib.collections.LineCollection at 0x230a82a2fd0>,\n",
       " <matplotlib.lines.Line2D at 0x230a82a3110>)"
      ]
     },
     "execution_count": 8,
     "metadata": {},
     "output_type": "execute_result"
    },
    {
     "data": {
      "image/png": "[encoded data removed]",
      "text/plain": [
       "<Figure size 640x480 with 1 Axes>"
      ]
     },
     "metadata": {},
     "output_type": "display_data"
    }
   ],
   "source": [
    "# autocorrelation\n",
    "import pandas as pd\n",
    "import matplotlib.pyplot as plt\n",
    "\n",
    "df =  pd.read_csv('03+-+corr.csv')\n",
    "df['t0'] = pd.to_numeric(df['t0'], downcast='float')\n",
    "plt.acorr(df['t0'],maxlags=8)\n"
   ]
  },
  {
   "cell_type": "code",
   "execution_count": 9,
   "id": "18982109",
   "metadata": {},
   "outputs": [
    {
     "data": {
      "application/vnd.microsoft.datawrangler.viewer.v0+json": {
       "columns": [
        {
         "name": "index",
         "rawType": "int64",
         "type": "integer"
        },
        {
         "name": "t0",
         "rawType": "float32",
         "type": "float"
        }
       ],
       "ref": "753e831d-6d09-4940-aaed-f5f85f0a9343",
       "rows": [
        [
         "0",
         null
        ],
        [
         "1",
         "8.0"
        ],
        [
         "2",
         "14.0"
        ],
        [
         "3",
         "36.0"
        ],
        [
         "4",
         "56.0"
        ],
        [
         "5",
         "84.0"
        ],
        [
         "6",
         "94.0"
        ],
        [
         "7",
         "106.0"
        ],
        [
         "8",
         "110.0"
        ],
        [
         "9",
         "93.0"
        ],
        [
         "10",
         "67.0"
        ],
        [
         "11",
         "35.0"
        ],
        [
         "12",
         "37.0"
        ],
        [
         "13",
         "36.0"
        ],
        [
         "14",
         "34.0"
        ],
        [
         "15",
         "28.0"
        ],
        [
         "16",
         "39.0"
        ]
       ],
       "shape": {
        "columns": 1,
        "rows": 17
       }
      },
      "text/html": [
       "<div>\n",
       "<style scoped>\n",
       "    .dataframe tbody tr th:only-of-type {\n",
       "        vertical-align: middle;\n",
       "    }\n",
       "\n",
       "    .dataframe tbody tr th {\n",
       "        vertical-align: top;\n",
       "    }\n",
       "\n",
       "    .dataframe thead th {\n",
       "        text-align: right;\n",
       "    }\n",
       "</style>\n",
       "<table border=\"1\" class=\"dataframe\">\n",
       "  <thead>\n",
       "    <tr style=\"text-align: right;\">\n",
       "      <th></th>\n",
       "      <th>t0</th>\n",
       "    </tr>\n",
       "  </thead>\n",
       "  <tbody>\n",
       "    <tr>\n",
       "      <th>0</th>\n",
       "      <td>NaN</td>\n",
       "    </tr>\n",
       "    <tr>\n",
       "      <th>1</th>\n",
       "      <td>8.0</td>\n",
       "    </tr>\n",
       "    <tr>\n",
       "      <th>2</th>\n",
       "      <td>14.0</td>\n",
       "    </tr>\n",
       "    <tr>\n",
       "      <th>3</th>\n",
       "      <td>36.0</td>\n",
       "    </tr>\n",
       "    <tr>\n",
       "      <th>4</th>\n",
       "      <td>56.0</td>\n",
       "    </tr>\n",
       "    <tr>\n",
       "      <th>5</th>\n",
       "      <td>84.0</td>\n",
       "    </tr>\n",
       "    <tr>\n",
       "      <th>6</th>\n",
       "      <td>94.0</td>\n",
       "    </tr>\n",
       "    <tr>\n",
       "      <th>7</th>\n",
       "      <td>106.0</td>\n",
       "    </tr>\n",
       "    <tr>\n",
       "      <th>8</th>\n",
       "      <td>110.0</td>\n",
       "    </tr>\n",
       "    <tr>\n",
       "      <th>9</th>\n",
       "      <td>93.0</td>\n",
       "    </tr>\n",
       "    <tr>\n",
       "      <th>10</th>\n",
       "      <td>67.0</td>\n",
       "    </tr>\n",
       "    <tr>\n",
       "      <th>11</th>\n",
       "      <td>35.0</td>\n",
       "    </tr>\n",
       "    <tr>\n",
       "      <th>12</th>\n",
       "      <td>37.0</td>\n",
       "    </tr>\n",
       "    <tr>\n",
       "      <th>13</th>\n",
       "      <td>36.0</td>\n",
       "    </tr>\n",
       "    <tr>\n",
       "      <th>14</th>\n",
       "      <td>34.0</td>\n",
       "    </tr>\n",
       "    <tr>\n",
       "      <th>15</th>\n",
       "      <td>28.0</td>\n",
       "    </tr>\n",
       "    <tr>\n",
       "      <th>16</th>\n",
       "      <td>39.0</td>\n",
       "    </tr>\n",
       "  </tbody>\n",
       "</table>\n",
       "</div>"
      ],
      "text/plain": [
       "       t0\n",
       "0     NaN\n",
       "1     8.0\n",
       "2    14.0\n",
       "3    36.0\n",
       "4    56.0\n",
       "5    84.0\n",
       "6    94.0\n",
       "7   106.0\n",
       "8   110.0\n",
       "9    93.0\n",
       "10   67.0\n",
       "11   35.0\n",
       "12   37.0\n",
       "13   36.0\n",
       "14   34.0\n",
       "15   28.0\n",
       "16   39.0"
      ]
     },
     "execution_count": 9,
     "metadata": {},
     "output_type": "execute_result"
    }
   ],
   "source": [
    "# data with time lag\n",
    "t_1 = df['t0'].shift(+1).to_frame()\n",
    "t_1"
   ]
  },
  {
   "cell_type": "code",
   "execution_count": null,
   "id": "f270d89a",
   "metadata": {},
   "outputs": [],
   "source": [
    "# data normalization \n",
    "df1 =  bik['demand']\n"
   ]
  },
  {
   "cell_type": "markdown",
   "id": "75adeb3d",
   "metadata": {},
   "source": []
  }
 ],
 "metadata": {
  "kernelspec": {
   "display_name": "Python 3",
   "language": "python",
   "name": "python3"
  },
  "language_info": {
   "codemirror_mode": {
    "name": "ipython",
    "version": 3
   },
   "file_extension": ".py",
   "mimetype": "text/x-python",
   "name": "python",
   "nbconvert_exporter": "python",
   "pygments_lexer": "ipython3",
   "version": "3.13.6"
  }
 },
 "nbformat": 4,
 "nbformat_minor": 5
}
