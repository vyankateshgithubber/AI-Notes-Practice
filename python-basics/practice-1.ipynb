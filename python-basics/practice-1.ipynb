{
 "cells": [
  {
   "cell_type": "code",
   "execution_count": 2,
   "id": "8c3fb43f",
   "metadata": {},
   "outputs": [
    {
     "name": "stdout",
     "output_type": "stream",
     "text": [
      "Hello, World!\n"
     ]
    }
   ],
   "source": [
    "print(\"Hello, World!\")"
   ]
  },
  {
   "cell_type": "markdown",
   "id": "bb2f4fce",
   "metadata": {},
   "source": [
    "Data types\n",
    "1. Numbers\n",
    "2. String\n",
    "3. Boolean\n",
    "4. List\n",
    "5. Tuple\n",
    "6. Dictionary"
   ]
  },
  {
   "cell_type": "code",
   "execution_count": 9,
   "id": "22a763e7",
   "metadata": {},
   "outputs": [
    {
     "name": "stdout",
     "output_type": "stream",
     "text": [
      "<class 'int'>\n",
      "<class 'float'>\n",
      "<class 'str'>\n",
      "sdsd\n"
     ]
    }
   ],
   "source": [
    "var1= 10\n",
    "var2 =10.13434\n",
    "var3 = \"sdsd\"\n",
    "print(type(var1))\n",
    "print(type(var2))\n",
    "print(type(var3))\n",
    "print(var3)"
   ]
  },
  {
   "cell_type": "code",
   "execution_count": 12,
   "id": "3b9cae8e",
   "metadata": {},
   "outputs": [
    {
     "name": "stdout",
     "output_type": "stream",
     "text": [
      "Var is 10\n"
     ]
    }
   ],
   "source": [
    "if (var1 == 10):\n",
    "    print(\"Var is 10\")"
   ]
  },
  {
   "cell_type": "code",
   "execution_count": 21,
   "id": "7b95eec8",
   "metadata": {},
   "outputs": [
    {
     "name": "stdout",
     "output_type": "stream",
     "text": [
      "1\n",
      "2\n",
      "3\n",
      "4\n",
      "5\n",
      "6\n",
      "7\n",
      "8\n",
      "9\n"
     ]
    }
   ],
   "source": [
    "# Loops\n",
    "i = 0\n",
    "while (i<10):\n",
    "    #print(i)\n",
    "    i+=1\n",
    "\n",
    "for l in range(1,10):\n",
    "    print(l)"
   ]
  },
  {
   "cell_type": "code",
   "execution_count": 18,
   "id": "0496cb5c",
   "metadata": {},
   "outputs": [
    {
     "name": "stdout",
     "output_type": "stream",
     "text": [
      "1 1\n",
      "2 2\n",
      "Name N\n",
      "Name a\n",
      "Name m\n",
      "Name e\n",
      "232 2\n",
      "232 3\n",
      "232 2\n"
     ]
    }
   ],
   "source": [
    "li = [1,\"2\",\"Name\",\"232\"]\n",
    "for l in li:\n",
    "    for ch  in str(l):\n",
    "        print(l,ch)"
   ]
  },
  {
   "cell_type": "markdown",
   "id": "510b3911",
   "metadata": {},
   "source": [
    "List is sequence of elements"
   ]
  },
  {
   "cell_type": "code",
   "execution_count": 25,
   "id": "6ed9c5e8",
   "metadata": {},
   "outputs": [
    {
     "data": {
      "text/plain": [
       "['put', 'set', 2]"
      ]
     },
     "execution_count": 25,
     "metadata": {},
     "output_type": "execute_result"
    }
   ],
   "source": [
    "List = [\"Jit\",\"set\"]\n",
    "List[0] = \"put\"\n",
    "List.append(2)\n",
    "List"
   ]
  },
  {
   "cell_type": "code",
   "execution_count": 26,
   "id": "0b243999",
   "metadata": {},
   "outputs": [
    {
     "name": "stdout",
     "output_type": "stream",
     "text": [
      "List is sequence of elements\n",
      "[[1, 2, 3, 4, 5], ['put', 'set', 2]]\n"
     ]
    }
   ],
   "source": [
    "list2 = [1,2,3,4,5]\n",
    "list2 = [list2, List]\n",
    "print(\"List is sequence of elements\")\n",
    "print(list2)"
   ]
  },
  {
   "cell_type": "code",
   "execution_count": 48,
   "id": "6a7206d6",
   "metadata": {},
   "outputs": [
    {
     "data": {
      "text/plain": [
       "[]"
      ]
     },
     "execution_count": 48,
     "metadata": {},
     "output_type": "execute_result"
    }
   ],
   "source": [
    "list2[:2][2:4]"
   ]
  },
  {
   "cell_type": "markdown",
   "id": "9bdc9f1a",
   "metadata": {},
   "source": [
    "Tuples are immutable and sequence of elements, faster access to elements"
   ]
  },
  {
   "cell_type": "code",
   "execution_count": 56,
   "id": "83c950ee",
   "metadata": {},
   "outputs": [
    {
     "name": "stdout",
     "output_type": "stream",
     "text": [
      "<class 'tuple'>\n"
     ]
    }
   ],
   "source": [
    "# sequence of elements\n",
    "tup = (\"1234\",\"12\",\"232\",\"2323\")\n",
    "print(type(tup))\n",
    "litsT = list(tup)"
   ]
  },
  {
   "cell_type": "code",
   "execution_count": 57,
   "id": "d6fa9582",
   "metadata": {},
   "outputs": [
    {
     "data": {
      "text/plain": [
       "('1234', '12', '232', '2323')"
      ]
     },
     "execution_count": 57,
     "metadata": {},
     "output_type": "execute_result"
    }
   ],
   "source": [
    "litsT[0] = '32'\n",
    "tup"
   ]
  },
  {
   "cell_type": "markdown",
   "id": "5ac6eddc",
   "metadata": {},
   "source": [
    "Dictionary --> key value pair\n",
    "values can be accessed using key\n",
    "JSON fields"
   ]
  },
  {
   "cell_type": "code",
   "execution_count": 67,
   "id": "69422952",
   "metadata": {},
   "outputs": [
    {
     "data": {
      "text/plain": [
       "<method-wrapper '__len__' of dict object at 0x000001EAA7E10400>"
      ]
     },
     "execution_count": 67,
     "metadata": {},
     "output_type": "execute_result"
    }
   ],
   "source": [
    "Address = {\n",
    "    'Street' : '180 street',\n",
    "    'City' : 'Chicago',\n",
    "    'State' : 'Maharashtra'\n",
    "}\n",
    "type(Address)\n",
    "len(Address)\n",
    "str(Address)\n",
    "Address.keys()\n",
    "Address.__len__"
   ]
  },
  {
   "cell_type": "code",
   "execution_count": 62,
   "id": "4c089f94",
   "metadata": {},
   "outputs": [
    {
     "ename": "NameError",
     "evalue": "name 'Address' is not defined",
     "output_type": "error",
     "traceback": [
      "\u001b[31m---------------------------------------------------------------------------\u001b[39m",
      "\u001b[31mNameError\u001b[39m                                 Traceback (most recent call last)",
      "\u001b[36mCell\u001b[39m\u001b[36m \u001b[39m\u001b[32mIn[62]\u001b[39m\u001b[32m, line 4\u001b[39m\n\u001b[32m      2\u001b[39m Address[\u001b[33m'\u001b[39m\u001b[33mcountry\u001b[39m\u001b[33m'\u001b[39m]=\u001b[33m'\u001b[39m\u001b[33mindia\u001b[39m\u001b[33m'\u001b[39m\n\u001b[32m      3\u001b[39m \u001b[38;5;28;01mdel\u001b[39;00m Address\n\u001b[32m----> \u001b[39m\u001b[32m4\u001b[39m \u001b[43mAddress\u001b[49m\n",
      "\u001b[31mNameError\u001b[39m: name 'Address' is not defined"
     ]
    }
   ],
   "source": [
    "Address['City']\n",
    "Address['country']='india'\n",
    "del Address\n",
    "Address"
   ]
  },
  {
   "cell_type": "code",
   "execution_count": null,
   "id": "04be3f5a",
   "metadata": {},
   "outputs": [
    {
     "ename": "NameError",
     "evalue": "name 'Address' is not defined",
     "output_type": "error",
     "traceback": [
      "\u001b[31m---------------------------------------------------------------------------\u001b[39m",
      "\u001b[31mNameError\u001b[39m                                 Traceback (most recent call last)",
      "\u001b[36mCell\u001b[39m\u001b[36m \u001b[39m\u001b[32mIn[63]\u001b[39m\u001b[32m, line 1\u001b[39m\n\u001b[32m----> \u001b[39m\u001b[32m1\u001b[39m \u001b[38;5;28mlen\u001b[39m(\u001b[43mAddress\u001b[49m)\n",
      "\u001b[31mNameError\u001b[39m: name 'Address' is not defined"
     ]
    }
   ],
   "source": []
  },
  {
   "cell_type": "markdown",
   "id": "56105d01",
   "metadata": {},
   "source": [
    "open file , write, read\n",
    "\n",
    "open file modes\n",
    "1. 'r'- read mode \n",
    "2.  w - write opens a file and truncating the data first\n",
    "3.  a - open file and append data\n",
    "4.  b - binary mode\n",
    "\n",
    "seek(0) --> it moves pointer to start of the file\n",
    "rstrip(char) --> it removes extra char in in wow"
   ]
  },
  {
   "cell_type": "code",
   "execution_count": 88,
   "id": "40bb4f60",
   "metadata": {},
   "outputs": [
    {
     "name": "stdout",
     "output_type": "stream",
     "text": [
      "Chicago,85,F\n",
      "\n",
      "Chicago,85,F\n",
      "Chicago,89,F\n",
      "Chicago,70,F\n",
      "Chicago,80,F\n",
      "Chicago,88,F\n",
      "Chicago,72,F\n",
      "Chicago,76,F\n",
      "Chicago,74,F\n",
      "Chicago,70,F\n",
      "San Francisco,61,F\n",
      "San Francisco,52,F\n",
      "San Francisco,65,F\n",
      "San Francisco,57,F\n",
      "San Francisco,51,F\n",
      "San Francisco,61,F\n",
      "San Francisco,55,F\n",
      "London,15,C\n",
      "London,10,C\n",
      "London,18,C\n",
      "London,19,C\n",
      "London,17,C\n",
      "London,18,C\n",
      "London,11,C\n",
      "Delhi,30,C\n",
      "Delhi,23,C\n",
      "Delhi,27,C\n",
      "Delhi,21,C\n",
      "Delhi,29,C\n",
      "Delhi,22,C\n",
      "Delhi,28,C\n",
      "Delhi,20,C\n",
      "Sydney,32,C\n",
      "Sydney,27,C\n",
      "Sydney,82,F\n",
      "Sydney,25,C\n",
      "Sydney,81,F\n",
      "Sydney,76,F\n",
      "Sydney,20,C\n"
     ]
    }
   ],
   "source": [
    "cittemp =open('citytemp.csv', 'r') \n",
    "# total records is 38\n",
    "print(cittemp.readline()) # first records\n",
    "cittemp.readlines() # next 37 records   f\n",
    "\n",
    "cittemp.seek(0)\n",
    "for records in cittemp:\n",
    "    records = records.rstrip('\\n')\n",
    "    print(records)"
   ]
  },
  {
   "cell_type": "code",
   "execution_count": 86,
   "id": "ee5540af",
   "metadata": {},
   "outputs": [
    {
     "name": "stdout",
     "output_type": "stream",
     "text": [
      "Chicago 85 F\n"
     ]
    }
   ],
   "source": [
    "cittemp =open('citytemp.csv', 'r') \n",
    "\n",
    "rec1 = cittemp.readline()\n",
    "parts = rec1.strip().split(',')\n",
    "if len(parts) == 3:\n",
    "\tcity, temp, unit = parts\n",
    "\tprint(city, temp, unit)\n",
    "else:\n",
    "\tprint(\"Line does not contain 3 comma-separated values:\", parts)\n",
    "\n",
    "citywrite = open('citywrite.csv', 'w')\n",
    "citywrite.write(rec1)\n",
    "citywrite.close()\n",
    "cittemp.close()"
   ]
  },
  {
   "cell_type": "markdown",
   "id": "1825e410",
   "metadata": {},
   "source": [
    "Excerise find citywise avg temperature , convert celisue to fer"
   ]
  },
  {
   "cell_type": "code",
   "execution_count": 6,
   "id": "cb6a9fb2",
   "metadata": {},
   "outputs": [
    {
     "name": "stdout",
     "output_type": "stream",
     "text": [
      "{'Chicago': {'sum': 704.0, 'count': 9}, 'San Francisco': {'sum': 402.0, 'count': 7}, 'London': {'sum': 418.40000000000003, 'count': 7}, 'Delhi': {'sum': 616.0, 'count': 8}, 'Sydney': {'sum': 554.2, 'count': 7}}\n",
      "{'Chicago': 78.22, 'San Francisco': 57.43, 'London': 59.77, 'Delhi': 77.0, 'Sydney': 79.17}\n",
      "avg F: 78.22\n",
      "avg F: 57.43\n",
      "avg F: 59.77\n",
      "avg F: 77.0\n",
      "avg F: 79.17\n"
     ]
    }
   ],
   "source": [
    "def CelsiusToFahrenheit(temp:float):\n",
    "    return (temp * (9/5)) +  32\n",
    "\n",
    "\n",
    "\n",
    "avgCityTemp = {}\n",
    "\n",
    "with open('citytemp.csv', 'r') as citytemps:\n",
    "    for line in citytemps:\n",
    "        line = line.strip()\n",
    "        if not line:\n",
    "            continue\n",
    "        parts = [p.strip() for p in line.split(',')]\n",
    "        if len(parts) != 3:\n",
    "            continue\n",
    "        city, temp_str , unit = parts\n",
    "        try:\n",
    "            temp_val = float(temp_str)\n",
    "        except ValueError:\n",
    "            continue\n",
    "\n",
    "        unit_norm = (unit or '').strip().upper()\n",
    "        temp_f = CelsiusToFahrenheit(temp_val) if unit_norm.startswith('C') else temp_val\n",
    "        #print(f\"City: {city}, Temp: {temp_f} F\")\n",
    "        rec = avgCityTemp.setdefault(city, {\"sum\": 0.0, \"count\": 0})\n",
    "        rec[\"sum\"] += temp_f\n",
    "        rec[\"count\"] += 1\n",
    "\n",
    "# Final averages per city (in Fahrenheit)\n",
    "print(avgCityTemp)\n",
    "city_avg_f = {city: round(data[\"sum\"]/data[\"count\"], 2) for city, data in avgCityTemp.items()}\n",
    "print(city_avg_f)\n",
    "\n",
    "# Iterate values\n",
    "for value in city_avg_f.values():\n",
    "    print(\"avg F:\", value)\n",
    "\n",
    "# Check if a particular value exists\n",
    "target = 75.0\n",
    "if target in city_avg_f.values():\n",
    "    print(\"Found average temp:\", target)"
   ]
  },
  {
   "cell_type": "code",
   "execution_count": null,
   "id": "7da240bc",
   "metadata": {},
   "outputs": [],
   "source": []
  }
 ],
 "metadata": {
  "kernelspec": {
   "display_name": "Python 3",
   "language": "python",
   "name": "python3"
  },
  "language_info": {
   "codemirror_mode": {
    "name": "ipython",
    "version": 3
   },
   "file_extension": ".py",
   "mimetype": "text/x-python",
   "name": "python",
   "nbconvert_exporter": "python",
   "pygments_lexer": "ipython3",
   "version": "3.13.6"
  }
 },
 "nbformat": 4,
 "nbformat_minor": 5
}
