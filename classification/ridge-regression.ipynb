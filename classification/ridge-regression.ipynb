{
 "cells": [
  {
   "cell_type": "code",
   "execution_count": null,
   "id": "175679db",
   "metadata": {},
   "outputs": [
    {
     "name": "stdout",
     "output_type": "stream",
     "text": [
      "[1.66666667]\n",
      "[0.83333333]\n"
     ]
    }
   ],
   "source": [
    "import pandas as pd\n",
    "X = [1,2,3,4]\n",
    "Y = [2,4,6,8]\n",
    "\n",
    "X = pd.DataFrame(X,columns=['X'])\n",
    "Y = pd.DataFrame(Y, columns=['Y'])\n",
    "\n",
    "from sklearn.linear_model import Ridge\n",
    "\n",
    "rd = Ridge(alpha=1)\n",
    "\n",
    "rd.fit(X, Y)\n",
    "\n",
    "print(rd.coef_)\n",
    "print(rd.intercept_)\n",
    "# ideal y =  2x\n",
    "# ans y = 1.66x+ 0.833"
   ]
  },
  {
   "cell_type": "code",
   "execution_count": null,
   "id": "491eb929",
   "metadata": {},
   "outputs": [],
   "source": []
  }
 ],
 "metadata": {
  "kernelspec": {
   "display_name": "Python 3",
   "language": "python",
   "name": "python3"
  },
  "language_info": {
   "codemirror_mode": {
    "name": "ipython",
    "version": 3
   },
   "file_extension": ".py",
   "mimetype": "text/x-python",
   "name": "python",
   "nbconvert_exporter": "python",
   "pygments_lexer": "ipython3",
   "version": "3.13.6"
  }
 },
 "nbformat": 4,
 "nbformat_minor": 5
}
