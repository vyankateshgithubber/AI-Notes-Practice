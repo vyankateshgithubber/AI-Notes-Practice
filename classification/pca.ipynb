{
 "cells": [
  {
   "cell_type": "code",
   "execution_count": 1,
   "id": "8747a381",
   "metadata": {},
   "outputs": [
    {
     "name": "stderr",
     "output_type": "stream",
     "text": [
      "c:\\Users\\vyankateshgoski\\AppData\\Local\\Programs\\Python\\Python313\\Lib\\site-packages\\sklearn\\base.py:1365: DataConversionWarning: A column-vector y was passed when a 1d array was expected. Please change the shape of y to (n_samples,), for example using ravel().\n",
      "  return fit_method(estimator, *args, **kwargs)\n"
     ]
    },
    {
     "name": "stdout",
     "output_type": "stream",
     "text": [
      "Baseline Accuracy: 0.9298245614035088\n",
      "Confusion Matrix:\n",
      " [[39  5]\n",
      " [ 3 67]]\n",
      "              precision    recall  f1-score   support\n",
      "\n",
      "           0      0.929     0.886     0.907        44\n",
      "           1      0.931     0.957     0.944        70\n",
      "\n",
      "    accuracy                          0.930       114\n",
      "   macro avg      0.930     0.922     0.925       114\n",
      "weighted avg      0.930     0.930     0.930       114\n",
      "\n"
     ]
    }
   ],
   "source": [
    "import pandas as pd\n",
    "import numpy as np\n",
    "from sklearn.model_selection import train_test_split\n",
    "from sklearn.datasets import load_breast_cancer\n",
    "\n",
    "lbc = load_breast_cancer()\n",
    "\n",
    "X = pd.DataFrame(lbc['data'],columns=lbc['feature_names'])\n",
    "Y = pd.DataFrame(lbc['target'],columns=['type'])\n",
    "\n",
    "from sklearn.preprocessing import StandardScaler\n",
    "\n",
    "std = StandardScaler()\n",
    "X_scal = std.fit_transform(X)\n",
    "\n",
    "from sklearn.decomposition import PCA\n",
    "from sklearn.ensemble import RandomForestClassifier\n",
    "from sklearn.metrics import accuracy_score, confusion_matrix, classification_report\n",
    "\n",
    "pca = PCA()\n",
    "\n",
    "x_pca = pca.fit_transform(X_scal)\n",
    "\n",
    "X_train, X_test, y_train, y_test =  train_test_split(x_pca, Y, test_size=0.2)\n",
    "\n",
    "\n",
    "\n",
    "# 5. Baseline tree\n",
    "tree = RandomForestClassifier(random_state=42)\n",
    "tree.fit(X_train, y_train)\n",
    "y_pred = tree.predict(X_test)\n",
    "\n",
    "print(\"Baseline Accuracy:\", accuracy_score(y_test, y_pred))\n",
    "print(\"Confusion Matrix:\\n\", confusion_matrix(y_test, y_pred))\n",
    "print(classification_report(y_test, y_pred, digits=3))"
   ]
  },
  {
   "cell_type": "code",
   "execution_count": null,
   "id": "5533a234",
   "metadata": {},
   "outputs": [],
   "source": []
  }
 ],
 "metadata": {
  "kernelspec": {
   "display_name": "Python 3",
   "language": "python",
   "name": "python3"
  },
  "language_info": {
   "codemirror_mode": {
    "name": "ipython",
    "version": 3
   },
   "file_extension": ".py",
   "mimetype": "text/x-python",
   "name": "python",
   "nbconvert_exporter": "python",
   "pygments_lexer": "ipython3",
   "version": "3.13.6"
  }
 },
 "nbformat": 4,
 "nbformat_minor": 5
}
