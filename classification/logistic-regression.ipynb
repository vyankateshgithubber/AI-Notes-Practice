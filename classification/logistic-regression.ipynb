{
 "cells": [
  {
   "cell_type": "markdown",
   "id": "8626f1ad",
   "metadata": {},
   "source": [
    "## Logistic Regression\n",
    "\n",
    "1. Supervised learning model\n",
    "2.  can be binary or multiple value prediction\n",
    "3. find the probability of the outcome\n",
    "## Logistic Regression\n",
    "\n",
    "Logistic Regression models the probability of a class (usually positive class = 1).\n",
    "\n",
    "Core idea:\n",
    "- Map linear combination z = w·x + b to a probability using the sigmoid (logistic) function.\n",
    "- Decision: predict 1 if p >= threshold (default 0.5), else 0.\n",
    "\n",
    "Sigmoid (logistic) function:\n",
    "σ(z) = 1 / (1 + e^(−z))\n",
    "\n",
    "Log-odds (logit):\n",
    "log( p / (1 − p) ) = w·x + b\n",
    "\n",
    "Cost (Binary Cross-Entropy / Log Loss):\n",
    "J(w,b) = − (1/m) Σ [ y·log(p) + (1−y)·log(1−p) ]\n",
    "\n",
    "Gradient components:\n",
    "∂J/∂w = (1/m) Σ (p − y) x\n",
    "∂J/∂b = (1/m) Σ (p − y)\n",
    "\n",
    "Why use:\n",
    "- Outputs calibrated probabilities.\n",
    "- Works well for linearly separable (in log-odds space) data.\n",
    "- Fast, interpretable coefficients.\n",
    "\n",
    "Assumptions (practical):\n",
    "- Linear relationship between features and log-odds.\n",
    "- Low multicollinearity.\n",
    "- Independent observations.\n",
    "\n",
    "Regularization:\n",
    "- L2 (default) or L1 to reduce overfitting / feature selection.\n",
    "\n",
    "Evaluation metrics (binary):\n",
    "- Accuracy, Precision, Recall, F1, ROC AUC, Log Loss.\n",
    "\n",
    "When not ideal:\n",
    "- Complex non-linear boundaries without feature engineering.\n",
    "\n",
    "Multiclass:\n",
    "- One-vs-Rest (OvR) or Multinomial (softmax generalization).\n",
    "\n",
    "Interpretation of coefficient w_j:\n",
    "- e^{w_j} = multiplicative change in odds for a 1-unit increase in feature j (holding others constant).\n",
    "\n",
    "# Quick Reference\n",
    "Probability: p = σ(w·x + b)\n",
    "Prediction: ŷ = 1 if p ≥ 0.5 else 0\n",
    "Odds: p / (1−p)\n",
    "Log-odds: linear in features"
   ]
  },
  {
   "cell_type": "code",
   "execution_count": 6,
   "id": "6b181962",
   "metadata": {},
   "outputs": [
    {
     "name": "stdout",
     "output_type": "stream",
     "text": [
      "gender     13\n",
      "married     3\n",
      "ch         50\n",
      "income      0\n",
      "loanamt    22\n",
      "status      0\n",
      "dtype: int64\n"
     ]
    }
   ],
   "source": [
    "import pandas as pd \n",
    "\n",
    "data = pd.read_csv('01Exercise1.csv')\n",
    "df  = data.copy()\n",
    "# null check\n",
    "print(df.isnull().sum(axis=0))\n",
    "\n",
    "# drop null rows\n",
    "df =  df.dropna()"
   ]
  },
  {
   "cell_type": "code",
   "execution_count": 7,
   "id": "cf71b35f",
   "metadata": {},
   "outputs": [
    {
     "name": "stdout",
     "output_type": "stream",
     "text": [
      "gender      object\n",
      "married     object\n",
      "ch         float64\n",
      "income       int64\n",
      "loanamt    float64\n",
      "status      object\n",
      "dtype: object\n"
     ]
    }
   ],
   "source": [
    "# convert categrorical data into dummy \n",
    "\n",
    "print(df.dtypes)\n",
    "\n",
    "# decide featues \n",
    "# gender we are not going to consider  they are not dependent\n",
    "# married , ch(creadit history) and status are categorical values \n",
    "\n",
    "df = df.drop(['gender'],axis=1)\n",
    "df['married'] = df['married'].astype('category')\n",
    "df['ch'] = df['ch'].astype('category')\n",
    "df['status'] = df['status'].astype('category')\n",
    "\n",
    "loan_data = pd.get_dummies(df, drop_first=True)"
   ]
  },
  {
   "cell_type": "code",
   "execution_count": 9,
   "id": "d0975e9f",
   "metadata": {},
   "outputs": [],
   "source": [
    "# Normalize data for loanamount and income\n",
    "\n",
    "from sklearn.preprocessing import StandardScaler\n",
    "\n",
    "scalar= StandardScaler()\n",
    "loan_data['loanamt'] = scalar.fit_transform(loan_data[['loanamt']])\n",
    "loan_data['income'] = scalar.fit_transform(loan_data[['income']])\n"
   ]
  },
  {
   "cell_type": "code",
   "execution_count": null,
   "id": "e54cb2f0",
   "metadata": {},
   "outputs": [],
   "source": [
    "# train and test data \n",
    "\n",
    "Y =  loan_data[['status_Y']]\n",
    "X =  loan_data.drop(['status_Y'], axis=1)\n",
    "\n",
    "# while training and testing data split in logistic regression \n",
    "\n",
    "#Stratification keeps the class (0/1) proportion the same in train and test sets.\n",
    "#Why needed:\n",
    "# Prevents a skewed split (e.g., minority class almost missing from train or test).\n",
    "# Ensures logistic regression learns correct class prior (intercept).\n",
    "# Reduces variance in evaluation, especially with imbalanced data.\n",
    "\n",
    "from sklearn.model_selection import train_test_split\n",
    "\n",
    "x_train,x_test, y_train, y_test  = train_test_split(X, Y, stratify=Y, test_size=0.3, random_state=1234)\n"
   ]
  },
  {
   "cell_type": "code",
   "execution_count": 12,
   "id": "46ac3f44",
   "metadata": {},
   "outputs": [
    {
     "name": "stderr",
     "output_type": "stream",
     "text": [
      "c:\\Users\\vyankateshgoski\\AppData\\Local\\Programs\\Python\\Python313\\Lib\\site-packages\\sklearn\\utils\\validation.py:1406: DataConversionWarning: A column-vector y was passed when a 1d array was expected. Please change the shape of y to (n_samples, ), for example using ravel().\n",
      "  y = column_or_1d(y, warn=True)\n"
     ]
    }
   ],
   "source": [
    "from sklearn.linear_model import LogisticRegression\n",
    "\n",
    "regres =  LogisticRegression()\n",
    "\n",
    "regres.fit(x_train, y_train)\n",
    "\n",
    "y_predict =  regres.predict(x_test)"
   ]
  },
  {
   "cell_type": "code",
   "execution_count": 13,
   "id": "0bbee665",
   "metadata": {},
   "outputs": [
    {
     "data": {
      "text/plain": [
       "array([[ 29,  20],\n",
       "       [  2, 108]])"
      ]
     },
     "execution_count": 13,
     "metadata": {},
     "output_type": "execute_result"
    }
   ],
   "source": [
    "# confusion matrix \n",
    "# actual vs predicted (TT, NN, TN, NT)\n",
    "from sklearn.metrics import confusion_matrix\n",
    "\n",
    "confusion_matrix(y_test,y_predict)"
   ]
  },
  {
   "cell_type": "code",
   "execution_count": 15,
   "id": "6b7a577b",
   "metadata": {},
   "outputs": [
    {
     "data": {
      "text/plain": [
       "0.8616352201257862"
      ]
     },
     "execution_count": 15,
     "metadata": {},
     "output_type": "execute_result"
    }
   ],
   "source": [
    "regres.score(x_test,y_test)"
   ]
  },
  {
   "cell_type": "markdown",
   "id": "e1374fce",
   "metadata": {},
   "source": [
    "Accuracy is calculated by dividing the number of correct predictions (True Positives + True Negatives) by the total number of predictions. This is visualized using a **confusion matrix**, which is a table that summarizes the performance of a classification model by showing the counts of correct and incorrect predictions for each class.\n",
    "\n",
    "---\n",
    "## The Confusion Matrix\n",
    "\n",
    "A confusion matrix is the foundation for most classification metrics. It breaks down a model's predictions into four categories. Let's use a **loan approval** model as an example, where the \"positive\" class is \"Approved\" and the \"negative\" class is \"Rejected.\"\n",
    "\n",
    "* **True Positive (TP)**: The model correctly predicted \"Approved.\" (Actual: Approved, Predicted: Approved)\n",
    "* **True Negative (TN)**: The model correctly predicted \"Rejected.\" (Actual: Rejected, Predicted: Rejected)\n",
    "* **False Positive (FP)**: The model incorrectly predicted \"Approved.\" (Actual: Rejected, Predicted: Approved). This is a **Type I Error**.\n",
    "* **False Negative (FN)**: The model incorrectly predicted \"Rejected.\" (Actual: Approved, Predicted: Rejected). This is a **Type II Error**.\n",
    "\n",
    "Here's how it looks in a table:\n",
    "\n",
    "\n",
    "#### Accuracy\n",
    "Accuracy answers the simple question: \"Overall, what percentage of predictions did the model get right?\"\n",
    "\n",
    "* **Formula**:\n",
    "    $$\n",
    "    \\text{Accuracy} = \\frac{TP + TN}{TP + TN + FP + FN}\n",
    "    $$\n",
    "* **Limitation**: Accuracy can be misleading, especially with **imbalanced datasets**. If a model is trying to detect fraud (a rare event), it can achieve 99% accuracy by simply predicting \"no fraud\" every time.\n",
    "\n",
    "#### NULL Accuracy\n",
    "**NULL Accuracy** is the accuracy that could be achieved by always predicting the most frequent class. For instance, if 95% of loans in your dataset were \"Rejected,\" the NULL accuracy is 95%. Your model's accuracy must be higher than this to be considered useful.\n",
    "\n",
    "---\n",
    "### Key Performance Metrics\n",
    "\n",
    "Different business problems require us to focus on different types of errors. This is where more specific metrics become crucial.\n",
    "\n",
    "#### Precision\n",
    "Precision answers the question: \"Of all the positive predictions, how many were actually correct?\"\n",
    "\n",
    "* **Formula**:\n",
    "    $$\n",
    "    \\text{Precision} = \\frac{TP}{TP + FP}\n",
    "    $$\n",
    "* **Significance**: Precision is important when the cost of a **False Positive** is high.\n",
    "* **Example (Fraud Detection)**: You want high precision. A False Positive (flagging a legitimate transaction as fraud) is very inconvenient for the customer. You want to be very sure that when you predict fraud, it really is fraud.\n",
    "\n",
    "#### Recall (or Sensitivity)\n",
    "Recall answers the question: \"Of all the actual positive cases, how many did the model correctly identify?\"\n",
    "\n",
    "* **Formula**:\n",
    "    $$\n",
    "    \\text{Recall} = \\frac{TP}{TP + FN}\n",
    "    $$\n",
    "* **Significance**: Recall is important when the cost of a **False Negative** is high.\n",
    "* **Example (Fraud Detection)**: You also want high recall. A False Negative (missing an actual fraudulent transaction) is extremely costly for the business. You want to catch as many fraudulent transactions as possible.\n",
    "\n",
    "#### Specificity (or Selectivity)\n",
    "Specificity answers the question: \"Of all the actual negative cases, how many did the model correctly identify?\"\n",
    "\n",
    "* **Formula**:\n",
    "    $$\n",
    "    \\text{Specificity} = \\frac{TN}{TN + FP}\n",
    "    $$\n",
    "* **Significance**: This is the \"true negative rate\" and is important when you want to correctly identify the negative class. For example, in a medical test for a disease, high specificity means a healthy person is very likely to test negative.\n",
    "\n",
    "#### F1-Score\n",
    "The F1-Score is the harmonic mean of Precision and Recall. It provides a single metric that balances both concerns.\n",
    "\n",
    "* **Formula**:\n",
    "    $$\n",
    "    \\text{F1-Score} = 2 \\times \\frac{\\text{Precision} \\times \\text{Recall}}{\\text{Precision} + \\text{Recall}}\n",
    "    $$\n",
    "* **Significance**: It's useful when you need to find a balance between Precision and Recall and don't want to heavily favor one over the other, especially in cases with imbalanced classes.\n",
    "\n",
    "---\n",
    "### Classification Report\n",
    "A **classification report** is a summary of the key metrics (Precision, Recall, F1-Score) for each class in your model. It's a standard output in libraries like Scikit-learn and provides a quick and comprehensive view of the model's performance.\n",
    "\n",
    "---\n",
    "### Threshold and Adjusting the Threshold\n",
    "Most classification models, like Logistic Regression, output a probability score (between 0 and 1). The **threshold** is the cutoff value used to convert this probability into a class prediction.\n",
    "\n",
    "* **Default Threshold**: Usually 0.5. If the probability is ≥ 0.5, predict positive; otherwise, predict negative.\n",
    "* **Adjusting the Threshold**: This default is not always optimal. By adjusting the threshold, you can trade off Precision for Recall.\n",
    "    * **Increasing the threshold** (e.g., to 0.8) makes the model more \"cautious\" about predicting the positive class. This leads to fewer False Positives (higher Precision) but more False Negatives (lower Recall).\n",
    "    * **Decreasing the threshold** (e.g., to 0.3) makes the model more \"eager\" to predict the positive class. This leads to fewer False Negatives (higher Recall) but more False Positives (lower Precision).\n",
    "\n",
    "---\n",
    "### AUC - ROC Curve 📈\n",
    "\n",
    "The **ROC (Receiver Operating Characteristic) curve** is a plot that visualizes the performance of a classification model at all possible classification thresholds.\n",
    "\n",
    "* **What it plots**:\n",
    "    * **Y-axis**: True Positive Rate (Recall/Sensitivity)\n",
    "    * **X-axis**: False Positive Rate (1 - Specificity)\n",
    "* **What it shows**: The ROC curve shows the trade-off between sensitivity and specificity. A model that is better at distinguishing between classes will have a curve that is closer to the top-left corner.\n",
    "\n",
    "\n",
    "\n",
    "**AUC (Area Under the Curve)** represents the area under the ROC curve.\n",
    "* **What it means**: AUC is a single number summary of the model's performance across all thresholds. It represents the probability that the model will rank a randomly chosen positive instance higher than a randomly chosen negative instance.\n",
    "* **Interpretation**:\n",
    "    * **AUC = 1.0**: Perfect classifier.\n",
    "    * **AUC = 0.5**: Useless classifier (equivalent to random guessing).\n",
    "    * **AUC > 0.7**: Generally considered an acceptable model.\n",
    "    * **AUC > 0.8**: Generally considered a good model."
   ]
  },
  {
   "cell_type": "code",
   "execution_count": 16,
   "id": "7cb03fea",
   "metadata": {},
   "outputs": [
    {
     "name": "stdout",
     "output_type": "stream",
     "text": [
      "              precision    recall  f1-score   support\n",
      "\n",
      "       False       0.94      0.59      0.72        49\n",
      "        True       0.84      0.98      0.91       110\n",
      "\n",
      "    accuracy                           0.86       159\n",
      "   macro avg       0.89      0.79      0.82       159\n",
      "weighted avg       0.87      0.86      0.85       159\n",
      "\n"
     ]
    }
   ],
   "source": [
    "from sklearn.metrics import classification_report\n",
    "print(classification_report(y_test, y_predict))"
   ]
  },
  {
   "cell_type": "code",
   "execution_count": 21,
   "id": "836d3e4e",
   "metadata": {},
   "outputs": [],
   "source": [
    "# adjusting threshold\n",
    "y_pre_prob = regres.predict_proba(x_test)[:,1]\n",
    "\n",
    "y_new_predict = []\n",
    "threshold = 0.8\n",
    "\n",
    "for i in range(0, len(y_pre_prob)):\n",
    "    if y_pre_prob[i] > threshold:\n",
    "        y_new_predict.append(1)\n",
    "    else:\n",
    "        y_new_predict.append(0)"
   ]
  },
  {
   "cell_type": "code",
   "execution_count": 22,
   "id": "399fc879",
   "metadata": {},
   "outputs": [
    {
     "name": "stdout",
     "output_type": "stream",
     "text": [
      "              precision    recall  f1-score   support\n",
      "\n",
      "       False       0.43      0.94      0.59        49\n",
      "        True       0.94      0.45      0.61       110\n",
      "\n",
      "    accuracy                           0.60       159\n",
      "   macro avg       0.69      0.70      0.60       159\n",
      "weighted avg       0.79      0.60      0.61       159\n",
      "\n"
     ]
    }
   ],
   "source": [
    "print(classification_report(y_test, y_new_predict))"
   ]
  },
  {
   "cell_type": "code",
   "execution_count": null,
   "id": "172ac1ff",
   "metadata": {},
   "outputs": [],
   "source": []
  },
  {
   "cell_type": "code",
   "execution_count": 23,
   "id": "41ba939d",
   "metadata": {},
   "outputs": [
    {
     "data": {
      "image/png": "[encoded data removed]",
      "text/plain": [
       "<Figure size 800x600 with 1 Axes>"
      ]
     },
     "metadata": {},
     "output_type": "display_data"
    }
   ],
   "source": [
    "from sklearn.metrics import roc_curve, auc\n",
    "\n",
    "import matplotlib.pyplot as plt\n",
    "\n",
    "fpr, tpr, thresholds = roc_curve(y_test, y_pre_prob)\n",
    "roc_auc = auc(fpr, tpr)\n",
    "\n",
    "plt.figure(figsize=(8,6))\n",
    "plt.plot(fpr, tpr, color='blue', lw=2, label=f'ROC curve (AUC = {roc_auc:.2f})')\n",
    "plt.plot([0, 1], [0, 1], color='grey', lw=1, linestyle='--')\n",
    "plt.xlabel('False Positive Rate')\n",
    "plt.ylabel('True Positive Rate')\n",
    "plt.title('ROC Curve')\n",
    "plt.legend(loc=\"lower right\")\n",
    "plt.show()"
   ]
  },
  {
   "cell_type": "code",
   "execution_count": null,
   "id": "9392378f",
   "metadata": {},
   "outputs": [],
   "source": []
  },
  {
   "cell_type": "code",
   "execution_count": 25,
   "id": "5a33eeb7",
   "metadata": {},
   "outputs": [
    {
     "name": "stdout",
     "output_type": "stream",
     "text": [
      " Fetures : Feature, F-Score, P-Value\n",
      "Feature: income, F-Score: 0.3902, P-Value: 0.5325\n",
      "Feature: loanamt, F-Score: 1.4338, P-Value: 0.2317\n",
      "Feature: married_Yes, F-Score: 4.7522, P-Value: 0.0297\n",
      "Feature: ch_1.0, F-Score: 240.6633, P-Value: 0.0000\n"
     ]
    },
    {
     "name": "stderr",
     "output_type": "stream",
     "text": [
      "c:\\Users\\vyankateshgoski\\AppData\\Local\\Programs\\Python\\Python313\\Lib\\site-packages\\sklearn\\utils\\validation.py:1406: DataConversionWarning: A column-vector y was passed when a 1d array was expected. Please change the shape of y to (n_samples, ), for example using ravel().\n",
      "  y = column_or_1d(y, warn=True)\n"
     ]
    }
   ],
   "source": [
    "from sklearn.feature_selection import f_regression as fr\n",
    "result = fr(X, Y)\n",
    "f1_score = result[0]\n",
    "p_value = result[1]\n",
    "\n",
    "columns =  list(X.columns)\n",
    "\n",
    "print(' Fetures : Feature, F-Score, P-Value')\n",
    "for i in range(len(columns)):\n",
    "    print(f'Feature: {columns[i]}, F-Score: {f1_score[i]:.4f}, P-Value: {p_value[i]:.4f}')"
   ]
  },
  {
   "cell_type": "markdown",
   "id": "0b407a73",
   "metadata": {},
   "source": [
    "**Univariate feature selection** is a method that selects the best features for a model by evaluating each feature individually against the target variable using statistical tests. It helps combat the **curse of dimensionality**—the problem where model performance degrades as the number of input features becomes too large. This selection process relies on **hypothesis testing** to determine if a statistically significant relationship exists between each feature and the target.\n",
    "\n",
    "---\n",
    "## 1. Univariate Feature Selection\n",
    "\n",
    "#### What is it?\n",
    "This is a feature selection process where each feature is assessed on its own, independent of the others. A statistical test is run for each feature against the target variable (e.g., `age` vs. `salary`, `gender` vs. `purchase_status`). Features are then ranked based on their test scores, and the top-ranking features are selected.\n",
    "\n",
    "#### Curse of Dimensionality\n",
    "This refers to various problems that arise when working with high-dimensional data (datasets with many features). As the number of features increases:\n",
    "* The amount of data needed to support the model grows exponentially.\n",
    "* The model becomes overly complex and is more likely to overfit.\n",
    "* The distance between data points becomes less meaningful.\n",
    "Univariate feature selection helps mitigate this by reducing the number of features to a more manageable and relevant subset.\n",
    "\n",
    "#### Hypothesis Testing Relation\n",
    "Univariate selection uses statistical hypothesis tests to score features. Each test is framed with:\n",
    "* **Null Hypothesis ($H_0$)**: There is **no significant relationship** between the feature and the target.\n",
    "* **Alternative Hypothesis ($H_1$)**: There **is a significant relationship**.\n",
    "\n",
    "The test calculates a score and a **p-value**. If the p-value is below a certain threshold (usually 0.05), we reject the null hypothesis and conclude the feature is significant.\n",
    "\n",
    "### F-Test (ANOVA)\n",
    "The F-test, or Analysis of Variance (ANOVA), is used to check if the means of two or more groups are significantly different.\n",
    "\n",
    "#### F-Test for Regression (Numerical Target)\n",
    "* **Significance**: It tests if a numerical feature has a significant linear relationship with a numerical target.\n",
    "* **Formula (Conceptual)**:\n",
    "    $$\n",
    "    F = \\frac{\\text{Variation explained by the feature}}{\\text{Unexplained variation (residuals)}}\n",
    "    $$\n",
    "* **Example**: To see if `Years_of_Experience` significantly impacts `Salary`, the F-test checks if the variation in salary explained by experience is greater than the random variation. A high F-score suggests a strong relationship.\n",
    "\n",
    "#### F-Test for Classification (Categorical Target)\n",
    "* **Significance**: It tests if a numerical feature has a significant relationship with a categorical target.\n",
    "* **Example**: To see if `Age` has a significant impact on whether a customer will `Default_on_Loan` (Yes/No), the F-test compares the mean age of the \"Default\" group to the mean age of the \"No Default\" group. If the means are significantly different, the feature is considered important.\n",
    "\n",
    "#### Statistical Significance and Feature Selection\n",
    "* **How to decide**: After running the F-test, you get an **F-score** and a **p-value**.\n",
    "    * **F-score**: A higher F-score indicates a stronger relationship.\n",
    "    * **p-value**: This is the probability of observing the data if the null hypothesis (no relationship) is true.\n",
    "* **Rule for removing features**: If the **p-value is high** (e.g., > 0.05), you fail to reject the null hypothesis. This means there's no statistically significant relationship, and you can consider **removing that feature**. Features with low p-values are kept.\n",
    "\n",
    "### Chi-Squared ($\\chi^2$) Test of Independence\n",
    "The Chi-Squared test is used to determine if there is a significant association between two **categorical variables**.\n",
    "\n",
    "* **Significance**: It's the primary method for selecting **categorical features** for a **categorical target**.\n",
    "* **Example**: Testing if `Marital_Status` (Married, Single, Divorced) is independent of `Purchased_Product` (Yes/No).\n",
    "\n",
    "#### Steps for Chi-Squared Feature Selection\n",
    "1.  **State Hypotheses**:\n",
    "    * $H_0$: The feature and the target are independent (no relationship).\n",
    "    * $H_1$: The feature and the target are dependent (there is a relationship).\n",
    "2.  **Create a Contingency Table**: A table showing the frequency distribution of the variables (e.g., how many single people purchased the product vs. how many did not).\n",
    "3.  **Calculate the Chi-Squared Statistic**: The test calculates the difference between the observed frequencies and the frequencies that would be expected if the variables were independent.\n",
    "4.  **Determine p-value**: Based on the Chi-Squared statistic, a p-value is calculated.\n",
    "5.  **Select Feature**: If the p-value is low (< 0.05), you reject the null hypothesis and conclude the feature is dependent on the target, meaning it's a useful feature to keep.\n",
    "\n",
    "---\n",
    "## 2. Most Common Feature Selection Transforms\n",
    "\n",
    "In libraries like Scikit-learn, these statistical tests are wrapped in easy-to-use functions.\n",
    "\n",
    "* `GenericUnivariateSelect`: A configurable selector that allows different selection strategies. More commonly, you use its simpler wrappers:\n",
    "    * `SelectKBest`: Selects a fixed number (`k`) of the top-scoring features.\n",
    "    * `SelectPercentile`: Selects the top features based on a specified percentile.\n",
    "\n",
    "To use these, you must provide a `score_func` to tell it which statistical test to run.\n",
    "\n",
    "#### Common `score_func` Options:\n",
    "* `f_regression`: Use this for a **regression** task (numerical target). It runs an F-test.\n",
    "* `f_classif`: Use this for a **classification** task (categorical target) when you are testing **numerical features**. It also runs an F-test (ANOVA).\n",
    "* `chi2`: Use this for a **classification** task (categorical target) when you are testing **categorical features**. It runs the Chi-Squared test."
   ]
  },
  {
   "cell_type": "code",
   "execution_count": 26,
   "id": "e099a049",
   "metadata": {},
   "outputs": [
    {
     "name": "stdout",
     "output_type": "stream",
     "text": [
      " Fetures : Feature, F-Score, P-Value\n",
      "Feature: income, F-Score: 0.3902, P-Value: 0.5325\n",
      "Feature: loanamt, F-Score: 1.4338, P-Value: 0.2317\n",
      "Feature: married_Yes, F-Score: 4.7522, P-Value: 0.0297\n",
      "Feature: ch_1.0, F-Score: 240.6633, P-Value: 0.0000\n",
      "Selected Features: Index(['married_Yes', 'ch_1.0'], dtype='object')\n"
     ]
    },
    {
     "name": "stderr",
     "output_type": "stream",
     "text": [
      "c:\\Users\\vyankateshgoski\\AppData\\Local\\Programs\\Python\\Python313\\Lib\\site-packages\\sklearn\\utils\\validation.py:1406: DataConversionWarning: A column-vector y was passed when a 1d array was expected. Please change the shape of y to (n_samples, ), for example using ravel().\n",
      "  y = column_or_1d(y, warn=True)\n"
     ]
    }
   ],
   "source": [
    "# univariate feature selection\n",
    "from sklearn.feature_selection import SelectKBest, f_regression\n",
    "\n",
    "selector = SelectKBest(score_func=f_regression, k=2)\n",
    "X_new = selector.fit_transform(X, Y)\n",
    "\n",
    "\n",
    "# f score and p value for new features\n",
    "f1_score_new = selector.scores_\n",
    "p_value_new = selector.pvalues_\n",
    "print(' Fetures : Feature, F-Score, P-Value')\n",
    "for i in range(len(X.columns)):\n",
    "    print(f'Feature: {X.columns[i]}, F-Score: {f1_score_new[i]:.4f}, P-Value: {p_value_new[i]:.4f}')    \n",
    "\n",
    "\n",
    "# selected columns\n",
    "selected_columns = X.columns[selector.get_support()]\n",
    "print(\"Selected Features:\", selected_columns)\n",
    "\n"
   ]
  },
  {
   "cell_type": "code",
   "execution_count": 28,
   "id": "fb78522f",
   "metadata": {},
   "outputs": [
    {
     "name": "stdout",
     "output_type": "stream",
     "text": [
      " Fetures : Feature, F-Score, P-Value\n",
      "Feature: income, F-Score: 0.3902, P-Value: 0.5325\n",
      "Feature: loanamt, F-Score: 1.4338, P-Value: 0.2317\n",
      "Feature: married_Yes, F-Score: 4.7522, P-Value: 0.0297\n",
      "Feature: ch_1.0, F-Score: 240.6633, P-Value: 0.0000\n",
      "Selected Features: Index(['ch_1.0'], dtype='object')\n"
     ]
    },
    {
     "name": "stderr",
     "output_type": "stream",
     "text": [
      "c:\\Users\\vyankateshgoski\\AppData\\Local\\Programs\\Python\\Python313\\Lib\\site-packages\\sklearn\\utils\\validation.py:1406: DataConversionWarning: A column-vector y was passed when a 1d array was expected. Please change the shape of y to (n_samples, ), for example using ravel().\n",
      "  y = column_or_1d(y, warn=True)\n"
     ]
    }
   ],
   "source": [
    "from sklearn.feature_selection import SelectPercentile, f_regression\n",
    "\n",
    "selector = SelectPercentile(score_func=f_regression,percentile=30)\n",
    "X_new = selector.fit_transform(X, Y)\n",
    "\n",
    "\n",
    "# f score and p value for new features\n",
    "f1_score_new = selector.scores_\n",
    "p_value_new = selector.pvalues_\n",
    "print(' Fetures : Feature, F-Score, P-Value')\n",
    "for i in range(len(X.columns)):\n",
    "    print(f'Feature: {X.columns[i]}, F-Score: {f1_score_new[i]:.4f}, P-Value: {p_value_new[i]:.4f}')    \n",
    "\n",
    "\n",
    "# selected columns\n",
    "selected_columns = X.columns[selector.get_support()]\n",
    "print(\"Selected Features:\", selected_columns)\n"
   ]
  },
  {
   "cell_type": "code",
   "execution_count": 30,
   "id": "21795b94",
   "metadata": {},
   "outputs": [
    {
     "name": "stderr",
     "output_type": "stream",
     "text": [
      "c:\\Users\\vyankateshgoski\\AppData\\Local\\Programs\\Python\\Python313\\Lib\\site-packages\\sklearn\\utils\\validation.py:1406: DataConversionWarning: A column-vector y was passed when a 1d array was expected. Please change the shape of y to (n_samples, ), for example using ravel().\n",
      "  y = column_or_1d(y, warn=True)\n"
     ]
    },
    {
     "data": {
      "text/plain": [
       "array([[1., 1.],\n",
       "       [1., 1.],\n",
       "       [1., 1.],\n",
       "       ...,\n",
       "       [1., 1.],\n",
       "       [1., 1.],\n",
       "       [0., 0.]], shape=(529, 2))"
      ]
     },
     "execution_count": 30,
     "metadata": {},
     "output_type": "execute_result"
    }
   ],
   "source": [
    "# Generic Univerisate Selection\n",
    "from sklearn.feature_selection import GenericUnivariateSelect\n",
    "selectorg1 =  GenericUnivariateSelect(score_func=f_regression,mode='k_best',param=2)\n",
    "selectorg1.fit_transform(X,Y)"
   ]
  },
  {
   "cell_type": "code",
   "execution_count": null,
   "id": "2f80d7cd",
   "metadata": {},
   "outputs": [],
   "source": []
  }
 ],
 "metadata": {
  "kernelspec": {
   "display_name": "Python 3",
   "language": "python",
   "name": "python3"
  },
  "language_info": {
   "codemirror_mode": {
    "name": "ipython",
    "version": 3
   },
   "file_extension": ".py",
   "mimetype": "text/x-python",
   "name": "python",
   "nbconvert_exporter": "python",
   "pygments_lexer": "ipython3",
   "version": "3.13.6"
  }
 },
 "nbformat": 4,
 "nbformat_minor": 5
}
